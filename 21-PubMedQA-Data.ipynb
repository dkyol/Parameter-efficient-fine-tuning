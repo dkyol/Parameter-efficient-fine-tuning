{
 "cells": [
  {
   "cell_type": "markdown",
   "id": "ccb3c321-129a-4ac7-8eb2-8946cb30a56f",
   "metadata": {},
   "source": [
    "![NVIDIA Logo](images/nvidia.png)"
   ]
  },
  {
   "cell_type": "markdown",
   "id": "ff11d997-778a-492c-955a-9ac545239bb3",
   "metadata": {},
   "source": [
    "# PubMedQA Dataset"
   ]
  },
  {
   "cell_type": "markdown",
   "id": "5237a605-dd48-44f9-bb0b-06d957c59957",
   "metadata": {},
   "source": [
    "In this notebook we will familiarize ourselves with the PubMedQA data, in preparation for subsequent experiments."
   ]
  },
  {
   "cell_type": "markdown",
   "id": "1eb76949-7875-44e1-99e5-70cf24af381e",
   "metadata": {},
   "source": [
    "---"
   ]
  },
  {
   "cell_type": "markdown",
   "id": "59c6636f-3fa1-4f73-ba68-83697f4e0671",
   "metadata": {},
   "source": [
    "## Learning Objectives"
   ]
  },
  {
   "cell_type": "markdown",
   "id": "8c652239-bbfe-42ba-9219-b784c83abdac",
   "metadata": {},
   "source": [
    "By the time you complete this notebook you will:\n",
    "- Be familiar with the format of the PubMedQA dataset."
   ]
  },
  {
   "cell_type": "markdown",
   "id": "1d610760-ca6b-47d1-8ec2-0197307d5d59",
   "metadata": {},
   "source": [
    "---"
   ]
  },
  {
   "cell_type": "markdown",
   "id": "111806ac-a4df-42f9-8372-b68d0925314c",
   "metadata": {},
   "source": [
    "## Imports"
   ]
  },
  {
   "cell_type": "code",
   "execution_count": 1,
   "id": "cfd69037-5e1b-48be-baf5-69505f45e280",
   "metadata": {},
   "outputs": [],
   "source": [
    "import json\n",
    "import random\n",
    "from itertools import islice"
   ]
  },
  {
   "cell_type": "markdown",
   "id": "a12619df-6807-4155-b058-b31e914c83a7",
   "metadata": {},
   "source": [
    "---"
   ]
  },
  {
   "cell_type": "markdown",
   "id": "1a15727a-a4a2-4f5a-aad9-7114acdc6834",
   "metadata": {},
   "source": [
    "## Clone PubMedQA"
   ]
  },
  {
   "cell_type": "markdown",
   "id": "663631ad-5d07-46dc-a5b8-1eeb72d8800f",
   "metadata": {},
   "source": [
    "[PubMedQA](https://pubmedqa.github.io) is a dataset designed for question answering and biomedical natural language processing research. It's based on abstracts from PubMed, a free search engine accessing primarily the MEDLINE database of references and abstracts on life sciences and biomedical topics. For a deeper dive check out the [PubMedQA Paper](https://users.cs.duke.edu/~bdhingra/papers/pubmedqa.pdf).\n",
    "\n",
    "We will be cloning the PubMedQA github repo to get access to the PubMedQA data we will be using for P-tuning."
   ]
  },
  {
   "cell_type": "code",
   "execution_count": 2,
   "id": "bc19b9dd",
   "metadata": {
    "tags": []
   },
   "outputs": [
    {
     "name": "stdout",
     "output_type": "stream",
     "text": [
      "Cloning into 'pubmedqa'...\n",
      "remote: Enumerating objects: 40, done.\u001b[K\n",
      "remote: Counting objects: 100% (3/3), done.\u001b[K\n",
      "remote: Compressing objects: 100% (3/3), done.\u001b[K\n",
      "remote: Total 40 (delta 0), reused 1 (delta 0), pack-reused 37\u001b[K\n",
      "Receiving objects: 100% (40/40), 704.87 KiB | 17.19 MiB/s, done.\n",
      "Resolving deltas: 100% (12/12), done.\n"
     ]
    }
   ],
   "source": [
    "!rm -rf pubmedqa\n",
    "!git clone https://github.com/pubmedqa/pubmedqa"
   ]
  },
  {
   "cell_type": "markdown",
   "id": "9d3facc3-1278-459b-bccb-ae1f24eebd00",
   "metadata": {},
   "source": [
    "---"
   ]
  },
  {
   "cell_type": "markdown",
   "id": "c95e4ebc-faad-4ec5-ad3f-d6c9bc22fc26",
   "metadata": {},
   "source": [
    "## Load Data"
   ]
  },
  {
   "cell_type": "markdown",
   "id": "8d9d55e0-19c6-41ab-932d-d27479302953",
   "metadata": {},
   "source": [
    "`ori_pqal.json` contains 1000 labeled samples."
   ]
  },
  {
   "cell_type": "code",
   "execution_count": 3,
   "id": "fedf38ee-a47a-466f-b87c-e20e4a4830fa",
   "metadata": {},
   "outputs": [],
   "source": [
    "pubmed_data = json.load(open('pubmedqa/data/ori_pqal.json'))"
   ]
  },
  {
   "cell_type": "code",
   "execution_count": 4,
   "id": "aa56453f-4c2f-490f-bb10-43b816db2a29",
   "metadata": {},
   "outputs": [
    {
     "data": {
      "text/plain": [
       "1000"
      ]
     },
     "execution_count": 4,
     "metadata": {},
     "output_type": "execute_result"
    }
   ],
   "source": [
    "len(pubmed_data)"
   ]
  },
  {
   "cell_type": "markdown",
   "id": "7ed19eed-4d48-431e-934f-e75906e68a28",
   "metadata": {},
   "source": [
    "---"
   ]
  },
  {
   "cell_type": "markdown",
   "id": "fff4b85b-36ee-4660-8b3b-6515b7a7639d",
   "metadata": {},
   "source": [
    "## View Raw sample"
   ]
  },
  {
   "cell_type": "markdown",
   "id": "4495c81f-30d8-47de-8d41-5498756cb143",
   "metadata": {},
   "source": [
    "Below is a single raw sample from the dataset."
   ]
  },
  {
   "cell_type": "code",
   "execution_count": 5,
   "id": "a0b32c10-759e-4423-be80-2772dfd5fdc6",
   "metadata": {},
   "outputs": [
    {
     "name": "stdout",
     "output_type": "stream",
     "text": [
      "{'QUESTION': 'Do mitochondria play a role in remodelling lace plant leaves during programmed cell death?', 'CONTEXTS': ['Programmed cell death (PCD) is the regulated death of cells within an organism. The lace plant (Aponogeton madagascariensis) produces perforations in its leaves through PCD. The leaves of the plant consist of a latticework of longitudinal and transverse veins enclosing areoles. PCD occurs in the cells at the center of these areoles and progresses outwards, stopping approximately five cells from the vasculature. The role of mitochondria during PCD has been recognized in animals; however, it has been less studied during PCD in plants.', 'The following paper elucidates the role of mitochondrial dynamics during developmentally regulated PCD in vivo in A. madagascariensis. A single areole within a window stage leaf (PCD is occurring) was divided into three areas based on the progression of PCD; cells that will not undergo PCD (NPCD), cells in early stages of PCD (EPCD), and cells in late stages of PCD (LPCD). Window stage leaves were stained with the mitochondrial dye MitoTracker Red CMXRos and examined. Mitochondrial dynamics were delineated into four categories (M1-M4) based on characteristics including distribution, motility, and membrane potential (ΔΨm). A TUNEL assay showed fragmented nDNA in a gradient over these mitochondrial stages. Chloroplasts and transvacuolar strands were also examined using live cell imaging. The possible importance of mitochondrial permeability transition pore (PTP) formation during PCD was indirectly examined via in vivo cyclosporine A (CsA) treatment. This treatment resulted in lace plant leaves with a significantly lower number of perforations compared to controls, and that displayed mitochondrial dynamics similar to that of non-PCD cells.'], 'LABELS': ['BACKGROUND', 'RESULTS'], 'MESHES': ['Alismataceae', 'Apoptosis', 'Cell Differentiation', 'Mitochondria', 'Plant Leaves'], 'YEAR': '2011', 'reasoning_required_pred': 'yes', 'reasoning_free_pred': 'yes', 'final_decision': 'yes', 'LONG_ANSWER': 'Results depicted mitochondrial dynamics in vivo as PCD progresses within the lace plant, and highlight the correlation of this organelle with other organelles during developmental PCD. To the best of our knowledge, this is the first report of mitochondria and chloroplasts moving on transvacuolar strands to form a ring structure surrounding the nucleus during developmental PCD. Also, for the first time, we have shown the feasibility for the use of CsA in a whole plant system. Overall, our findings implicate the mitochondria as playing a critical and early role in developmentally regulated PCD in the lace plant.'}\n"
     ]
    }
   ],
   "source": [
    "for id, info in islice(pubmed_data.items(), 1):\n",
    "    print(info)"
   ]
  },
  {
   "cell_type": "markdown",
   "id": "fd4f7455-4488-49f5-b1aa-b8c44b0053ed",
   "metadata": {},
   "source": [
    "---"
   ]
  },
  {
   "cell_type": "markdown",
   "id": "733e9456-ed73-491f-b4dd-617a84ab0ca5",
   "metadata": {},
   "source": [
    "## Formatted Samples"
   ]
  },
  {
   "attachments": {},
   "cell_type": "markdown",
   "id": "a25678e0-cd9d-4d76-b04f-3418ced28b4f",
   "metadata": {},
   "source": [
    "For our purposes we are interested, for each sample, in:\n",
    "- `'QUESTION'`, which is intended to be answered as either \"yes\", \"no\" or \"maybe\".\n",
    "- `'CONTEXTS'` which provide information relevant to the question. Each sample may have several contexts, and each context has a corresponding context label, provided in `'LABELS`'.\n",
    "- `'final_decision'` which is the correct answer.\n",
    "\n",
    "Here we print one sample for each of the 3 possible answers, including the question, contexts and label."
   ]
  },
  {
   "cell_type": "code",
   "execution_count": 6,
   "id": "3d79cea7-5ee5-492e-a597-db41096d93eb",
   "metadata": {},
   "outputs": [
    {
     "name": "stdout",
     "output_type": "stream",
     "text": [
      "CONTEXTS\n",
      "--------\n",
      "\n",
      "BACKGROUND: Programmed cell death (PCD) is the regulated death of cells within an organism. The lace plant (Aponogeton madagascariensis) produces perforations in its leaves through PCD. The leaves of the plant consist of a latticework of longitudinal and transverse veins enclosing areoles. PCD occurs in the cells at the center of these areoles and progresses outwards, stopping approximately five cells from the vasculature. The role of mitochondria during PCD has been recognized in animals; however, it has been less studied during PCD in plants.\n",
      "\n",
      "RESULTS: The following paper elucidates the role of mitochondrial dynamics during developmentally regulated PCD in vivo in A. madagascariensis. A single areole within a window stage leaf (PCD is occurring) was divided into three areas based on the progression of PCD; cells that will not undergo PCD (NPCD), cells in early stages of PCD (EPCD), and cells in late stages of PCD (LPCD). Window stage leaves were stained with the mitochondrial dye MitoTracker Red CMXRos and examined. Mitochondrial dynamics were delineated into four categories (M1-M4) based on characteristics including distribution, motility, and membrane potential (ΔΨm). A TUNEL assay showed fragmented nDNA in a gradient over these mitochondrial stages. Chloroplasts and transvacuolar strands were also examined using live cell imaging. The possible importance of mitochondrial permeability transition pore (PTP) formation during PCD was indirectly examined via in vivo cyclosporine A (CsA) treatment. This treatment resulted in lace plant leaves with a significantly lower number of perforations compared to controls, and that displayed mitochondrial dynamics similar to that of non-PCD cells.\n",
      "\n",
      "QUESTION: Do mitochondria play a role in remodelling lace plant leaves during programmed cell death?\n",
      "\n",
      "LABEL: yes\n",
      "\n",
      "---\n",
      "\n",
      "CONTEXTS\n",
      "--------\n",
      "\n",
      "BACKGROUND: Assessment of visual acuity depends on the optotypes used for measurement. The ability to recognize different optotypes differs even if their critical details appear under the same visual angle. Since optotypes are evaluated on individuals with good visual acuity and without eye disorders, differences in the lower visual acuity range cannot be excluded. In this study, visual acuity measured with the Snellen E was compared to the Landolt C acuity.\n",
      "\n",
      "PATIENTS AND METHODS: 100 patients (age 8 - 90 years, median 60.5 years) with various eye disorders, among them 39 with amblyopia due to strabismus, and 13 healthy volunteers were tested. Charts with the Snellen E and the Landolt C (Precision Vision) which mimic the ETDRS charts were used to assess visual acuity. Three out of 5 optotypes per line had to be correctly identified, while wrong answers were monitored. In the group of patients, the eyes with the lower visual acuity, and the right eyes of the healthy subjects, were evaluated.\n",
      "\n",
      "RESULTS: Differences between Landolt C acuity (LR) and Snellen E acuity (SE) were small. The mean decimal values for LR and SE were 0.25 and 0.29 in the entire group and 0.14 and 0.16 for the eyes with strabismus amblyopia. The mean difference between LR and SE was 0.55 lines in the entire group and 0.55 lines for the eyes with strabismus amblyopia, with higher values of SE in both groups. The results of the other groups were similar with only small differences between LR and SE.\n",
      "\n",
      "QUESTION: Landolt C and snellen e acuity: differences in strabismus amblyopia?\n",
      "\n",
      "LABEL: no\n",
      "\n",
      "---\n",
      "\n",
      "CONTEXTS\n",
      "--------\n",
      "\n",
      "AIMS: Emergency surgery is associated with poorer outcomes and higher mortality with recent studies suggesting the 30-day mortality to be 14-15%. The aim of this study was to analyse the 30-day mortality, age-related 30-day mortality and 1-year mortality following emergency laparotomy. We hope this will encourage prospective data collection, improvement of care and initiate strategies to establish best practice in this area.\n",
      "\n",
      "METHODS: This was a retrospective study of patients who underwent emergency laparotomy from June 2010 to May 2012. The primary end point of the study was 30-day mortality, age-related 30-day mortality and 1-year all-cause mortality.\n",
      "\n",
      "RESULTS: 477 laparotomies were performed in 446 patients. 57% were aged<70 and 43% aged>70 years. 30-day mortality was 12, 4% in those aged<70 years and 22% in those>70 years (p<0.001). 1-year mortality was 25, 15% in those aged under 70 years and 38% in those aged>70 years (p<0.001).\n",
      "\n",
      "QUESTION: 30-Day and 1-year mortality in emergency general surgery laparotomies: an area of concern and need for improvement?\n",
      "\n",
      "LABEL: maybe\n",
      "\n",
      "---\n",
      "\n"
     ]
    }
   ],
   "source": [
    "possible_answers = {'yes', 'no', 'maybe'}\n",
    "for sample in pubmed_data.values():\n",
    "    if not len(possible_answers):\n",
    "        break\n",
    "    label = sample['final_decision']\n",
    "    if label in possible_answers:\n",
    "        possible_answers.remove(label)\n",
    "\n",
    "        print('CONTEXTS\\n--------\\n')\n",
    "        for context_label, context in zip(sample['LABELS'], sample['CONTEXTS']):\n",
    "            print(f\"{context_label}: {context}\\n\")\n",
    "        print(f'QUESTION: {sample['QUESTION']}\\n')\n",
    "        print(f'LABEL: {label}')\n",
    "        print('\\n---\\n')"
   ]
  },
  {
   "cell_type": "markdown",
   "id": "85ffc4b0-0916-46e3-99e8-8c83ea91e1db",
   "metadata": {},
   "source": [
    "---"
   ]
  },
  {
   "cell_type": "markdown",
   "id": "a8c292ac-0e9f-43fa-b836-6a12991f6e82",
   "metadata": {},
   "source": [
    "## Split Data"
   ]
  },
  {
   "cell_type": "markdown",
   "id": "815a7889-4bc8-43c9-a2bf-39d1bb799d4d",
   "metadata": {},
   "source": [
    "We have provided the splits for the PubMedQA dataset for you, but if you're curious here you can view how we performed the splits."
   ]
  },
  {
   "cell_type": "markdown",
   "id": "9646ce6b-d95a-4f57-98bb-ffbbbf53f360",
   "metadata": {},
   "source": [
    "```python\n",
    "# Load the JSON data\n",
    "with open('pubmedqa/data/ori_pqal.json', 'r') as file:\n",
    "    data = json.load(file)\n",
    "\n",
    "# Convert the dictionary to a list of items and shuffle\n",
    "items = list(data.items())\n",
    "random.shuffle(items)\n",
    "\n",
    "# Split the data\n",
    "train_split = int(0.7 * len(items))  # 70% for training\n",
    "validate_split = int(0.85 * len(items))  # Additional 15% for validation\n",
    "\n",
    "train_items = items[:train_split]\n",
    "validate_items = items[train_split:validate_split]\n",
    "test_items = items[validate_split:]\n",
    "\n",
    "# Convert the lists back to dictionaries\n",
    "train_data = dict(train_items)\n",
    "validate_data = dict(validate_items)\n",
    "test_data = dict(test_items)\n",
    "\n",
    "print(len(train_data))\n",
    "print(len(validate_data))\n",
    "print(len(test_data))\n",
    "\n",
    "# Save the splits to new JSON files\n",
    "with open('data/pubmedqa_train.json', 'w') as file:\n",
    "    json.dump(train_data, file, indent=4)\n",
    "\n",
    "with open('data/pubmedqa_validate.json', 'w') as file:\n",
    "    json.dump(validate_data, file, indent=4)\n",
    "\n",
    "with open('data/pubmedqa_test.json', 'w') as file:\n",
    "    json.dump(test_data, file, indent=4)\n",
    "```"
   ]
  },
  {
   "cell_type": "code",
   "execution_count": null,
   "id": "f1263c3e-9c73-48cd-bb41-4e2e84868d52",
   "metadata": {},
   "outputs": [],
   "source": []
  }
 ],
 "metadata": {
  "kernelspec": {
   "display_name": "Python 3 (ipykernel)",
   "language": "python",
   "name": "python3"
  },
  "language_info": {
   "codemirror_mode": {
    "name": "ipython",
    "version": 3
   },
   "file_extension": ".py",
   "mimetype": "text/x-python",
   "name": "python",
   "nbconvert_exporter": "python",
   "pygments_lexer": "ipython3",
   "version": "3.12.1"
  }
 },
 "nbformat": 4,
 "nbformat_minor": 5
}
