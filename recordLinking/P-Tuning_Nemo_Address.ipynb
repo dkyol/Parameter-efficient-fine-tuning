{
 "cells": [
  {
   "cell_type": "markdown",
   "id": "bd8a6a4a-3ba4-450b-a2b5-4e3651c408ed",
   "metadata": {},
   "source": [
    "# P-Tuning a Model Using the Nemo Service \n"
   ]
  },
  {
   "cell_type": "code",
   "execution_count": 16,
   "id": "ff486a41-90af-48a4-9791-10a6feabfa6a",
   "metadata": {},
   "outputs": [],
   "source": [
    "import json\n",
    "import random\n",
    "import pandas as pd\n",
    "import os\n",
    "\n",
    "from nemollm.api import NemoLLM\n",
    "from llm_utils.nemo_service_models import NemoServiceBaseModel"
   ]
  },
  {
   "cell_type": "markdown",
   "id": "037c057b-9ba8-4156-b37a-b4d9a65c3d7a",
   "metadata": {},
   "source": [
    "---"
   ]
  },
  {
   "cell_type": "markdown",
   "id": "f0c96b23-1306-4cf7-bc22-be1a0308b33b",
   "metadata": {},
   "source": [
    "## Load Data"
   ]
  },
  {
   "cell_type": "code",
   "execution_count": 4,
   "id": "8969d3c2-e9c3-4e92-b0c7-d600fdedd276",
   "metadata": {},
   "outputs": [
    {
     "data": {
      "text/html": [
       "<div>\n",
       "<style scoped>\n",
       "    .dataframe tbody tr th:only-of-type {\n",
       "        vertical-align: middle;\n",
       "    }\n",
       "\n",
       "    .dataframe tbody tr th {\n",
       "        vertical-align: top;\n",
       "    }\n",
       "\n",
       "    .dataframe thead th {\n",
       "        text-align: right;\n",
       "    }\n",
       "</style>\n",
       "<table border=\"1\" class=\"dataframe\">\n",
       "  <thead>\n",
       "    <tr style=\"text-align: right;\">\n",
       "      <th></th>\n",
       "      <th>Unnamed: 0</th>\n",
       "      <th>good address</th>\n",
       "      <th>compare address</th>\n",
       "      <th>label</th>\n",
       "    </tr>\n",
       "  </thead>\n",
       "  <tbody>\n",
       "    <tr>\n",
       "      <th>0</th>\n",
       "      <td>0</td>\n",
       "      <td>14361 cupcake terrace</td>\n",
       "      <td>14361 cupofcake terrace</td>\n",
       "      <td>1</td>\n",
       "    </tr>\n",
       "    <tr>\n",
       "      <th>1</th>\n",
       "      <td>1</td>\n",
       "      <td>13823 principle terrace</td>\n",
       "      <td>2689 principal highway</td>\n",
       "      <td>0</td>\n",
       "    </tr>\n",
       "    <tr>\n",
       "      <th>2</th>\n",
       "      <td>2</td>\n",
       "      <td>908 toolbox street</td>\n",
       "      <td>1209 main highway</td>\n",
       "      <td>0</td>\n",
       "    </tr>\n",
       "    <tr>\n",
       "      <th>3</th>\n",
       "      <td>3</td>\n",
       "      <td>6785 wheel avenue</td>\n",
       "      <td>1809 main way</td>\n",
       "      <td>0</td>\n",
       "    </tr>\n",
       "    <tr>\n",
       "      <th>4</th>\n",
       "      <td>4</td>\n",
       "      <td>3944 electric screwdriver road</td>\n",
       "      <td>3944 elecc screwdriver</td>\n",
       "      <td>1</td>\n",
       "    </tr>\n",
       "  </tbody>\n",
       "</table>\n",
       "</div>"
      ],
      "text/plain": [
       "   Unnamed: 0                    good address          compare address  label\n",
       "0           0           14361 cupcake terrace  14361 cupofcake terrace      1\n",
       "1           1         13823 principle terrace   2689 principal highway      0\n",
       "2           2              908 toolbox street        1209 main highway      0\n",
       "3           3               6785 wheel avenue            1809 main way      0\n",
       "4           4  3944 electric screwdriver road   3944 elecc screwdriver      1"
      ]
     },
     "execution_count": 4,
     "metadata": {},
     "output_type": "execute_result"
    }
   ],
   "source": [
    "df = pd.read_csv('/workspace/dli/2-PubMedQA/data_62124.csv')\n",
    "df.head()\n",
    "print(df.shape)"
   ]
  },
  {
   "cell_type": "code",
   "execution_count": 5,
   "id": "546b799d-d747-4efe-9e06-63fcfda3f4a5",
   "metadata": {},
   "outputs": [],
   "source": [
    "def generate_address_prompt(good_address, compare_address, numLabel):\n",
    "    prompt = \"\"\n",
    "\n",
    "    prompt += f\"\"\"OBJECTIVE: Some addresses look the same, but indicate different physical locations and therefore they should not be linked, one indication that two addresses should not be linked is they have different house numbers. Alternatively, some addresses are not exact matches but should be linked, they often dont match because of a mispelling in one of the street names.  For example, These pair of addresses should be matched: 990 sizzling place and 990 sizlig place. while this pair of streets 67 metal way and 87 petal drive indicate different address that should not be matched.\\n\"\"\"\n",
    "    \n",
    "    question_text = f'Should the following two addresses be linked {good_address} and {compare_address} ?'\n",
    "    prompt += f\"QUESTION: {question_text}\\n\"\n",
    "    prompt += f\"ANSWER (yes|no): \"\n",
    "\n",
    "    label = ['yes' if numLabel == 1 else 'no']\n",
    "    \n",
    "    return {\"prompt\": prompt, \"completion\": label[0]}\n"
   ]
  },
  {
   "cell_type": "markdown",
   "id": "50794528-d425-4c7d-b3cb-5aba741868d5",
   "metadata": {},
   "source": [
    "## Format Data"
   ]
  },
  {
   "cell_type": "code",
   "execution_count": 6,
   "id": "b7666229-6f48-4059-80bb-8f60b44d39f3",
   "metadata": {},
   "outputs": [],
   "source": [
    "# generate training data \n",
    "\n",
    "with open('/workspace/dli/2-PubMedQA/address-train-data.jsonl', 'w') as f:\n",
    "    for i in range(250):\n",
    "        row = generate_address_prompt(df['good address'][i], df['compare address'][i], df['label'][i])\n",
    "        f.write(json.dumps(row) + '\\n')"
   ]
  },
  {
   "cell_type": "code",
   "execution_count": 7,
   "id": "5808b612-f386-4aa4-8c61-b041379ea92d",
   "metadata": {},
   "outputs": [],
   "source": [
    "# generate validation data \n",
    "\n",
    "with open('/workspace/dli/2-PubMedQA/address-valid-data.jsonl', 'w') as f:\n",
    "    for i in range(250, 295):\n",
    "        row = generate_address_prompt(df['good address'][i], df['compare address'][i], df['label'][i])\n",
    "        f.write(json.dumps(row) + '\\n')"
   ]
  },
  {
   "cell_type": "code",
   "execution_count": 8,
   "id": "7cc56fbe-8407-4782-a731-8fc7155a9921",
   "metadata": {},
   "outputs": [],
   "source": [
    "# generate test data \n",
    "\n",
    "with open('/workspace/dli/2-PubMedQA/address-test-data.jsonl', 'w') as f:\n",
    "    for i in range(295, 305):\n",
    "        row = generate_address_prompt(df['good address'][i], df['compare address'][i], df['label'][i])\n",
    "        f.write(json.dumps(row) + '\\n')"
   ]
  },
  {
   "cell_type": "markdown",
   "id": "2d265561-097f-4895-9c15-bae4f70adcc7",
   "metadata": {},
   "source": [
    "---"
   ]
  },
  {
   "cell_type": "markdown",
   "id": "3f5dfbe9-4a1f-4576-a4b7-067fe9a462b1",
   "metadata": {},
   "source": [
    "## NeMo Service Mocking"
   ]
  },
  {
   "cell_type": "markdown",
   "id": "66783bd2-4273-42ff-ad24-e85996953d06",
   "metadata": {},
   "source": [
    "There are two scenarios in this workshop where instead of you working directly with the real NeMo Service, you are going to interact with mocks. The first, which we will discuss here, is when uploading data files. The primary reason for this is that with many students interacting with the same NeMo Service account at the same time, keeping track of all your specific files will get cumbersome quick.\n",
    "\n",
    "Rather, we will provide mock functions that will simulate the real functions you would call if you were working with your own account."
   ]
  },
  {
   "cell_type": "markdown",
   "id": "30053aa2-6c40-4cbf-90f7-d7f75924f93c",
   "metadata": {},
   "source": [
    "---"
   ]
  },
  {
   "cell_type": "markdown",
   "id": "ea84da8f-480b-4765-8f49-3fb559c7a1d1",
   "metadata": {},
   "source": [
    "## Upload Data to NeMo Service"
   ]
  },
  {
   "cell_type": "markdown",
   "id": "6c1cd0be-1f8e-493b-b1a0-4ed082317cc9",
   "metadata": {},
   "source": [
    "Uploading data to the NeMo Service is straight forward. Typically you would create a `conn` object with the NeMo Service as we did in the first notebook and then use its `upload` method, passing it the file path of the file you would like to upload. In our case, we will use a mock `upload` method that we have provided for you, and view the (mock) response that it generates."
   ]
  },
  {
   "cell_type": "code",
   "execution_count": 10,
   "id": "2f80f447-37ea-4674-a583-ae9df63994ae",
   "metadata": {},
   "outputs": [],
   "source": [
    "api_key = os.getenv('NGC_API_KEY')\n",
    "api_host = os.getenv('API_HOST')"
   ]
  },
  {
   "cell_type": "code",
   "execution_count": 11,
   "id": "8e691bbd-4486-4d5f-8f74-cf492ea11d1c",
   "metadata": {},
   "outputs": [],
   "source": [
    "conn = NemoLLM(\n",
    "    api_host=api_host,\n",
    "    api_key=api_key\n",
    ")"
   ]
  },
  {
   "cell_type": "code",
   "execution_count": null,
   "id": "58c0828c-201d-4adc-8ffa-0f7271680c5d",
   "metadata": {},
   "outputs": [],
   "source": [
    "train_response = conn.upload('/workspace/dli/2-PubMedQA/address-train-data.jsonl')"
   ]
  },
  {
   "cell_type": "code",
   "execution_count": null,
   "id": "1b62ff01-c853-4983-ad2d-562ec9f1c7ba",
   "metadata": {},
   "outputs": [],
   "source": [
    "validation_response = conn.upload('/workspace/dli/2-PubMedQA/address-valid-data.jsonl')"
   ]
  },
  {
   "cell_type": "code",
   "execution_count": null,
   "id": "4508eb01-52af-4e50-b755-ea4d11a0495b",
   "metadata": {},
   "outputs": [],
   "source": [
    "train_response"
   ]
  },
  {
   "cell_type": "code",
   "execution_count": null,
   "id": "1bd371ef-3ddb-454c-bb58-0b9d2093425c",
   "metadata": {},
   "outputs": [],
   "source": [
    "{'id': 'c00eff6b-937c-47f1-9357-cf87af5972ea',\n",
    " 'name': '/workspace/dli/2-PubMedQA/address-train-data.jsonl',\n",
    " 'size': 232390,\n",
    " 'number_of_samples': 150,\n",
    " 'format': 'jsonl',\n",
    " 'usage_category': 'dataset',\n",
    " 'org_id': 'abcdefghijkl',\n",
    " 'user_id': 'abcdefghijklmnopqrstuvwxyz',\n",
    " 'ready_at': '0001-01-01T00:00:00Z',\n",
    " 'created_at': '2024-05-28T16:46:48.519447Z'}"
   ]
  },
  {
   "cell_type": "code",
   "execution_count": null,
   "id": "ded8a70d-fb19-46d2-8e68-e8da72333396",
   "metadata": {},
   "outputs": [],
   "source": [
    "validation_response"
   ]
  },
  {
   "cell_type": "code",
   "execution_count": null,
   "id": "80b43430-3443-40bd-9fff-e7efff744771",
   "metadata": {},
   "outputs": [],
   "source": [
    "{'id': 'c00eff6b-937c-47f1-9357-cf87af5972ea',\n",
    " 'name': '/workspace/dli/2-PubMedQA/address-valid-data.jsonl',\n",
    " 'size': 232390,\n",
    " 'number_of_samples': 150,\n",
    " 'format': 'jsonl',\n",
    " 'usage_category': 'dataset',\n",
    " 'org_id': 'abcdefghijkl',\n",
    " 'user_id': 'abcdefghijklmnopqrstuvwxyz',\n",
    " 'ready_at': '0001-01-01T00:00:00Z',\n",
    " 'created_at': '2024-05-28T16:46:48.519447Z'}"
   ]
  },
  {
   "cell_type": "markdown",
   "id": "8f312b9b-1d96-400e-b4ca-659f94697a30",
   "metadata": {},
   "source": [
    "## Create Customization (P-Tuned Model)"
   ]
  },
  {
   "cell_type": "code",
   "execution_count": null,
   "id": "2f08843e-eb99-47aa-8738-e34e8aada77b",
   "metadata": {},
   "outputs": [],
   "source": [
    "response_8b = conn.create_customization(\n",
    "    model=PtuneableModels.gpt8b.value,\n",
    "    name='address-8b-token-50-batch-8-epochs-3',\n",
    "    description=\"P-tuning for custom address model.\",\n",
    "    batch_size=8,\n",
    "    num_virtual_tokens=10,\n",
    "    validation_dataset_file_id=validate_dataset_file_id,   \n",
    "    training_dataset_file_id=training_dataset_file_id,   \n",
    "    epochs=3\n",
    ")"
   ]
  },
  {
   "cell_type": "markdown",
   "id": "e40170eb-9981-4099-baae-2e53a9b85de9",
   "metadata": {},
   "source": [
    "## Evaluate Results "
   ]
  },
  {
   "cell_type": "code",
   "execution_count": null,
   "id": "3da5603f-e94e-49e2-a297-34c5a8dd06c9",
   "metadata": {},
   "outputs": [],
   "source": [
    "prompts_and_answers = json.load(open('/workspace/dli/2-PubMedQA/address-test-data.jsonl','r'))"
   ]
  },
  {
   "cell_type": "markdown",
   "id": "5569bb4b-4f5c-4dec-bbdd-7941d60402ec",
   "metadata": {},
   "source": [
    "To use a p-tuned model with the NeMo Service we simply need to obtain the customization_id obtained after performing the customization. Once we have it, we can include it in calls to the base model that was p-tuned"
   ]
  },
  {
   "cell_type": "code",
   "execution_count": null,
   "id": "3c266711-c95f-4bde-b30d-d783395d4d64",
   "metadata": {},
   "outputs": [],
   "source": [
    "llms['gpt8b'] = NemoServiceBaseModel(model=PtuneableModels.gpt8b.value, customization_id='1780214f-8582-4e1c-89cd-7488f089e167')"
   ]
  },
  {
   "cell_type": "code",
   "execution_count": null,
   "id": "4906e032-c134-4361-b016-8d2eeba719fb",
   "metadata": {},
   "outputs": [],
   "source": [
    "for prompt, answer in prompts_and_answers:\n",
    "    response = llms['gpt8b'].generate(prompt, tokens_to_generate=1).strip()\n",
    "    print(f'Response from model: {response}')\n",
    "    print(f'Actual answer: {answer}')\n",
    "    correct = response == answer\n",
    "    print(f'Response from model correct: {correct}\\n')"
   ]
  },
  {
   "cell_type": "markdown",
   "id": "17850786-ac2d-4ece-97a7-ae1c2a763179",
   "metadata": {},
   "source": [
    "p-tuning over even 3 epochs on even 200 samples should return better performance than prompt engineering alone"
   ]
  }
 ],
 "metadata": {
  "kernelspec": {
   "display_name": "Python 3 (ipykernel)",
   "language": "python",
   "name": "python3"
  },
  "language_info": {
   "codemirror_mode": {
    "name": "ipython",
    "version": 3
   },
   "file_extension": ".py",
   "mimetype": "text/x-python",
   "name": "python",
   "nbconvert_exporter": "python",
   "pygments_lexer": "ipython3",
   "version": "3.12.1"
  }
 },
 "nbformat": 4,
 "nbformat_minor": 5
}
