{
 "cells": [
  {
   "cell_type": "markdown",
   "id": "1d55d7c3",
   "metadata": {},
   "source": [
    "![NVIDIA Logo](images/nvidia.png)"
   ]
  },
  {
   "cell_type": "markdown",
   "id": "fe9f4578",
   "metadata": {},
   "source": [
    "## Imports"
   ]
  },
  {
   "cell_type": "code",
   "execution_count": 1,
   "id": "937ac9f7",
   "metadata": {},
   "outputs": [],
   "source": [
    "import json\n",
    "import random\n",
    "import pandas as pd\n",
    "\n",
    "from tqdm.notebook import tqdm\n",
    "\n",
    "from llm_utils.nemo_service_models import NemoServiceBaseModel\n",
    "from llm_utils.models import PubmedModels\n",
    "from llm_utils.helpers import plot_experiment_results, accuracy_score\n",
    "from llm_utils.pubmedqa import generate_prompt_and_answer, strip_response\n",
    "from llm_utils.prompt_creators import create_prompt_with_examples, create_nemo_prompt_with_examples"
   ]
  },
  {
   "cell_type": "markdown",
   "id": "caf28f10",
   "metadata": {},
   "source": [
    "## List Models"
   ]
  },
  {
   "cell_type": "code",
   "execution_count": 2,
   "id": "c9e9cb58",
   "metadata": {},
   "outputs": [
    {
     "name": "stdout",
     "output_type": "stream",
     "text": [
      "gpt8b: gpt-8b-000\n",
      "gpt20b: gpt20b\n",
      "gpt43b: gpt-43b-001\n"
     ]
    }
   ],
   "source": [
    "PubmedModels.list_models()"
   ]
  },
  {
   "cell_type": "markdown",
   "id": "01f863e5",
   "metadata": {},
   "source": [
    "### Non-Instruction Fine-tuned Prompt Format"
   ]
  },
  {
   "cell_type": "markdown",
   "id": "6ad480c6",
   "metadata": {},
   "source": [
    "GPT20B and GPT8B are not instruction fine-tuned models, and thus we only need to provide our example prompt/response shots in a straightforward manner. We've provided the `create_prompt_with_examples` helper function to accomplish this."
   ]
  },
  {
   "cell_type": "code",
   "execution_count": 3,
   "id": "e099e785",
   "metadata": {},
   "outputs": [],
   "source": [
    "llms = {}"
   ]
  },
  {
   "cell_type": "code",
   "execution_count": 4,
   "id": "62b1686a",
   "metadata": {},
   "outputs": [],
   "source": [
    "llms['gpt8b'] = NemoServiceBaseModel(PubmedModels.gpt8b.value, create_prompt_with_examples=create_prompt_with_examples)\n",
    "llms['gpt20b'] = NemoServiceBaseModel(PubmedModels.gpt20b.value, create_prompt_with_examples=create_prompt_with_examples)\n",
    "llms['gpt43b'] = NemoServiceBaseModel(PubmedModels.gpt43b.value, create_prompt_with_examples=create_nemo_prompt_with_examples)"
   ]
  },
  {
   "cell_type": "code",
   "execution_count": 5,
   "id": "6c4c83f4",
   "metadata": {},
   "outputs": [
    {
     "data": {
      "text/plain": [
       "{'gpt8b': <llm_utils.nemo_service_models.NemoServiceBaseModel at 0x7f04567d1310>,\n",
       " 'gpt20b': <llm_utils.nemo_service_models.NemoServiceBaseModel at 0x7f04567d16d0>,\n",
       " 'gpt43b': <llm_utils.nemo_service_models.NemoServiceBaseModel at 0x7f04567d12e0>}"
      ]
     },
     "execution_count": 5,
     "metadata": {},
     "output_type": "execute_result"
    }
   ],
   "source": [
    "llms"
   ]
  },
  {
   "cell_type": "markdown",
   "id": "dac2f8e1",
   "metadata": {},
   "source": [
    "### One shot "
   ]
  },
  {
   "cell_type": "code",
   "execution_count": 6,
   "id": "2ead296f",
   "metadata": {},
   "outputs": [
    {
     "name": "stdout",
     "output_type": "stream",
     "text": [
      "/workspace/dli/2-PubMedQA\n"
     ]
    }
   ],
   "source": [
    "!pwd"
   ]
  },
  {
   "cell_type": "code",
   "execution_count": 8,
   "id": "d68680a4",
   "metadata": {},
   "outputs": [],
   "source": [
    "df = pd.read_csv('/workspace/dli/2-PubMedQA/data_62124.csv')"
   ]
  },
  {
   "cell_type": "code",
   "execution_count": 9,
   "id": "ebbdd9f7",
   "metadata": {},
   "outputs": [
    {
     "data": {
      "text/html": [
       "<div>\n",
       "<style scoped>\n",
       "    .dataframe tbody tr th:only-of-type {\n",
       "        vertical-align: middle;\n",
       "    }\n",
       "\n",
       "    .dataframe tbody tr th {\n",
       "        vertical-align: top;\n",
       "    }\n",
       "\n",
       "    .dataframe thead th {\n",
       "        text-align: right;\n",
       "    }\n",
       "</style>\n",
       "<table border=\"1\" class=\"dataframe\">\n",
       "  <thead>\n",
       "    <tr style=\"text-align: right;\">\n",
       "      <th></th>\n",
       "      <th>Unnamed: 0</th>\n",
       "      <th>good address</th>\n",
       "      <th>compare address</th>\n",
       "      <th>label</th>\n",
       "    </tr>\n",
       "  </thead>\n",
       "  <tbody>\n",
       "    <tr>\n",
       "      <th>0</th>\n",
       "      <td>0</td>\n",
       "      <td>14361 cupcake terrace</td>\n",
       "      <td>14361 cupofcake terrace</td>\n",
       "      <td>1</td>\n",
       "    </tr>\n",
       "    <tr>\n",
       "      <th>1</th>\n",
       "      <td>1</td>\n",
       "      <td>13823 principle terrace</td>\n",
       "      <td>2689 principal highway</td>\n",
       "      <td>0</td>\n",
       "    </tr>\n",
       "    <tr>\n",
       "      <th>2</th>\n",
       "      <td>2</td>\n",
       "      <td>908 toolbox street</td>\n",
       "      <td>1209 main highway</td>\n",
       "      <td>0</td>\n",
       "    </tr>\n",
       "    <tr>\n",
       "      <th>3</th>\n",
       "      <td>3</td>\n",
       "      <td>6785 wheel avenue</td>\n",
       "      <td>1809 main way</td>\n",
       "      <td>0</td>\n",
       "    </tr>\n",
       "    <tr>\n",
       "      <th>4</th>\n",
       "      <td>4</td>\n",
       "      <td>3944 electric screwdriver road</td>\n",
       "      <td>3944 elecc screwdriver</td>\n",
       "      <td>1</td>\n",
       "    </tr>\n",
       "  </tbody>\n",
       "</table>\n",
       "</div>"
      ],
      "text/plain": [
       "   Unnamed: 0                    good address          compare address  label\n",
       "0           0           14361 cupcake terrace  14361 cupofcake terrace      1\n",
       "1           1         13823 principle terrace   2689 principal highway      0\n",
       "2           2              908 toolbox street        1209 main highway      0\n",
       "3           3               6785 wheel avenue            1809 main way      0\n",
       "4           4  3944 electric screwdriver road   3944 elecc screwdriver      1"
      ]
     },
     "execution_count": 9,
     "metadata": {},
     "output_type": "execute_result"
    }
   ],
   "source": [
    "df.head()"
   ]
  },
  {
   "cell_type": "markdown",
   "id": "0728c218",
   "metadata": {},
   "source": [
    "### With simple prompting "
   ]
  },
  {
   "cell_type": "code",
   "execution_count": 15,
   "id": "79988059",
   "metadata": {},
   "outputs": [
    {
     "name": "stdout",
     "output_type": "stream",
     "text": [
      "Good Address: 14361 cupcake terrace\n",
      "Compare Address: 14361 cupofcake terrace\n",
      "Response from model: \n",
      "Actual answer: Yes\n",
      "Response from model correct: False\n",
      "\n",
      "Good Address: 13823 principle terrace\n",
      "Compare Address: 2689 principal highway\n",
      "Response from model: \n",
      "Actual answer: No\n",
      "Response from model correct: False\n",
      "\n",
      "Good Address: 908 toolbox street\n",
      "Compare Address: 1209 main highway\n",
      "Response from model: \n",
      "Actual answer: No\n",
      "Response from model correct: False\n",
      "\n",
      "Good Address: 6785 wheel avenue\n",
      "Compare Address: 1809 main way\n",
      "Response from model: \n",
      "Actual answer: No\n",
      "Response from model correct: False\n",
      "\n",
      "Good Address: 3944 electric screwdriver road\n",
      "Compare Address: 3944 elecc screwdriver\n",
      "Response from model: \n",
      "Actual answer: Yes\n",
      "Response from model correct: False\n",
      "\n",
      "Good Address: 1791 burdens square\n",
      "Compare Address: 3228 burden place\n",
      "Response from model: \n",
      "Actual answer: No\n",
      "Response from model correct: False\n",
      "\n",
      "Good Address: 10569 tablet highway\n",
      "Compare Address: 10569 tmablevt highway\n",
      "Response from model: \n",
      "Actual answer: Yes\n",
      "Response from model correct: False\n",
      "\n",
      "Good Address: 5840 bread highway\n",
      "Compare Address: 3370 bread highway\n",
      "Response from model: \n",
      "Actual answer: No\n",
      "Response from model correct: False\n",
      "\n",
      "Good Address: 753 broom street\n",
      "Compare Address: 753 blnroom street\n",
      "Response from model: \n",
      "Actual answer: Yes\n",
      "Response from model correct: False\n",
      "\n",
      "Good Address: 12423 owl road\n",
      "Compare Address: 8294 main square\n",
      "Response from model: \n",
      "Actual answer: No\n",
      "Response from model correct: False\n",
      "\n",
      "the accuracy is 0.0\n"
     ]
    }
   ],
   "source": [
    "rowNum = 10 \n",
    "c = 0\n",
    "for i in range(rowNum):\n",
    "    #prompt = f'Should the following two addresses be linked {df['good address'][i]} and {df['compare address'][i]}?'\n",
    "    prompt = f'Are the following addresses mispelled versions of the same address or two distinct addresses: {df['good address'][i]} and {df['compare address'][i]}? ANSWER (yes|no)'\n",
    "    \n",
    "    response = llms['gpt20b'].generate(prompt, tokens_to_generate=1, return_type='text').strip()\n",
    "\n",
    "    if df['label'][i] == 1:\n",
    "        label = 'Yes'\n",
    "    else:\n",
    "        label = 'No'\n",
    "\n",
    "    print(f'Good Address: {df['good address'][i]}')\n",
    "    print(f'Compare Address: {df['compare address'][i]}')\n",
    "    \n",
    "    print(f'Response from model: {response}')\n",
    "    print(f'Actual answer: {label}')\n",
    "    correct = label == response\n",
    "    print(f'Response from model correct: {correct}\\n')\n",
    "    if correct:\n",
    "        c += 1\n",
    "\n",
    "print(f'the accuracy is {c/rowNum}')\n"
   ]
  },
  {
   "cell_type": "markdown",
   "id": "980f1a2e",
   "metadata": {},
   "source": [
    "### Formatted prompting"
   ]
  },
  {
   "cell_type": "code",
   "execution_count": 14,
   "id": "6244c9ac",
   "metadata": {},
   "outputs": [
    {
     "name": "stdout",
     "output_type": "stream",
     "text": [
      "Good Address: 14361 cupcake terrace\n",
      "Compare Address: 14361 cupofcake terrace\n",
      "Response from model: yes\n",
      "Actual answer: yes\n",
      "Response from model correct: True\n",
      "\n",
      "Good Address: 13823 principle terrace\n",
      "Compare Address: 2689 principal highway\n",
      "Response from model: yes\n",
      "Actual answer: no\n",
      "Response from model correct: False\n",
      "\n",
      "Good Address: 908 toolbox street\n",
      "Compare Address: 1209 main highway\n",
      "Response from model: yes\n",
      "Actual answer: no\n",
      "Response from model correct: False\n",
      "\n",
      "Good Address: 6785 wheel avenue\n",
      "Compare Address: 1809 main way\n",
      "Response from model: yes\n",
      "Actual answer: no\n",
      "Response from model correct: False\n",
      "\n",
      "Good Address: 3944 electric screwdriver road\n",
      "Compare Address: 3944 elecc screwdriver\n",
      "Response from model: yes\n",
      "Actual answer: yes\n",
      "Response from model correct: True\n",
      "\n",
      "Good Address: 1791 burdens square\n",
      "Compare Address: 3228 burden place\n",
      "Response from model: yes\n",
      "Actual answer: no\n",
      "Response from model correct: False\n",
      "\n",
      "Good Address: 10569 tablet highway\n",
      "Compare Address: 10569 tmablevt highway\n",
      "Response from model: yes\n",
      "Actual answer: yes\n",
      "Response from model correct: True\n",
      "\n",
      "Good Address: 5840 bread highway\n",
      "Compare Address: 3370 bread highway\n",
      "Response from model: yes\n",
      "Actual answer: no\n",
      "Response from model correct: False\n",
      "\n",
      "Good Address: 753 broom street\n",
      "Compare Address: 753 blnroom street\n",
      "Response from model: yes\n",
      "Actual answer: yes\n",
      "Response from model correct: True\n",
      "\n",
      "Good Address: 12423 owl road\n",
      "Compare Address: 8294 main square\n",
      "Response from model: yes\n",
      "Actual answer: no\n",
      "Response from model correct: False\n",
      "\n",
      "the accuracy is 0.4\n"
     ]
    }
   ],
   "source": [
    "rowNum = 10 \n",
    "c = 0\n",
    "for i in range(rowNum):\n",
    "    prompt = f'''Objective: Some addresses look the same, but indicate different physical locations and \n",
    "    therefore they should not be linked, one indication that two addresses should not be linked is they have different\n",
    "    house numbers. Alternatively, some addresses are not exact matches but should be linked, they often dont match because\n",
    "    of a mispelling in one of the street names.  For example, These pair of addresses should be matched: 990 sizzling place and 990 sizlig place. while, \n",
    "    this pair of streets 67 metal way and 87 petal drive indicate different address that should not be matched. \\nQUESTION:\n",
    "    Should the following two addresses be linked {df['good address'][i]} and {df['compare address'][i]}? \\nANSWER (yes|no):'''\n",
    "    \n",
    "    \n",
    "    response = llms['gpt20b'].generate(prompt, tokens_to_generate=1, return_type='text').strip()\n",
    "\n",
    "    if df['label'][i] == 1:\n",
    "        label = 'yes'\n",
    "    else:\n",
    "        label = 'no'\n",
    "\n",
    "    print(f'Good Address: {df['good address'][i]}')\n",
    "    print(f'Compare Address: {df['compare address'][i]}')\n",
    "    \n",
    "    print(f'Response from model: {response}')\n",
    "    print(f'Actual answer: {label}')\n",
    "    correct = label == response\n",
    "    print(f'Response from model correct: {correct}\\n')\n",
    "    if correct:\n",
    "        c += 1\n",
    "\n",
    "print(f'the accuracy is {c/rowNum}')"
   ]
  },
  {
   "cell_type": "markdown",
   "id": "fba4fb32-5d44-40a3-bad8-986f5c8b6133",
   "metadata": {},
   "source": [
    "### Formatting/43B Model/ One Shot"
   ]
  },
  {
   "cell_type": "code",
   "execution_count": 13,
   "id": "83b089ff-32de-4303-a1bc-32f90e65ced2",
   "metadata": {},
   "outputs": [
    {
     "name": "stdout",
     "output_type": "stream",
     "text": [
      "Good Address: 14361 cupcake terrace\n",
      "Compare Address: 14361 cupofcake terrace\n",
      "Response from model: no\n",
      "Actual answer: Yes\n",
      "Response from model correct: False\n",
      "\n",
      "Good Address: 13823 principle terrace\n",
      "Compare Address: 2689 principal highway\n",
      "Response from model: no\n",
      "Actual answer: no\n",
      "Response from model correct: True\n",
      "\n",
      "Good Address: 908 toolbox street\n",
      "Compare Address: 1209 main highway\n",
      "Response from model: no\n",
      "Actual answer: no\n",
      "Response from model correct: True\n",
      "\n",
      "Good Address: 6785 wheel avenue\n",
      "Compare Address: 1809 main way\n",
      "Response from model: no\n",
      "Actual answer: no\n",
      "Response from model correct: True\n",
      "\n",
      "Good Address: 3944 electric screwdriver road\n",
      "Compare Address: 3944 elecc screwdriver\n",
      "Response from model: no\n",
      "Actual answer: Yes\n",
      "Response from model correct: False\n",
      "\n",
      "Good Address: 1791 burdens square\n",
      "Compare Address: 3228 burden place\n",
      "Response from model: no\n",
      "Actual answer: no\n",
      "Response from model correct: True\n",
      "\n",
      "Good Address: 10569 tablet highway\n",
      "Compare Address: 10569 tmablevt highway\n",
      "Response from model: no\n",
      "Actual answer: Yes\n",
      "Response from model correct: False\n",
      "\n",
      "Good Address: 5840 bread highway\n",
      "Compare Address: 3370 bread highway\n",
      "Response from model: no\n",
      "Actual answer: no\n",
      "Response from model correct: True\n",
      "\n",
      "Good Address: 753 broom street\n",
      "Compare Address: 753 blnroom street\n",
      "Response from model: no\n",
      "Actual answer: Yes\n",
      "Response from model correct: False\n",
      "\n",
      "Good Address: 12423 owl road\n",
      "Compare Address: 8294 main square\n",
      "Response from model: no\n",
      "Actual answer: no\n",
      "Response from model correct: True\n",
      "\n",
      "the accuracy is 0.6\n"
     ]
    }
   ],
   "source": [
    "rowNum = 10 \n",
    "c = 0\n",
    "for i in range(rowNum):\n",
    "    prompt = f'''Objective: Some addresses look the same, but indicate different physical locations and \n",
    "    therefore they should not be linked, one indication that two addresses should not be linked is they have different\n",
    "    house numbers. Alternatively, some addresses are not exact matches but should be linked, they often dont match because\n",
    "    of a mispelling in one of the street names.  For example, These pair of addresses should be matched: 990 sizzling place and 990 sizlig place. while, \n",
    "    this pair of streets 67 metal way and 87 petal drive indicate different address that should not be matched. \\nQUESTION:\n",
    "    Should the following two addresses be linked {df['good address'][i]} and {df['compare address'][i]}? \\nANSWER (yes|no):'''\n",
    "    \n",
    "    \n",
    "    response = llms['gpt43b'].generate(prompt, tokens_to_generate=1, return_type='text').strip()\n",
    "\n",
    "    if df['label'][i] == 1:\n",
    "        label = 'Yes'\n",
    "    else:\n",
    "        label = 'no'\n",
    "\n",
    "    print(f'Good Address: {df['good address'][i]}')\n",
    "    print(f'Compare Address: {df['compare address'][i]}')\n",
    "    \n",
    "    print(f'Response from model: {response}')\n",
    "    print(f'Actual answer: {label}')\n",
    "    correct = label == response\n",
    "    print(f'Response from model correct: {correct}\\n')\n",
    "    if correct:\n",
    "        c += 1\n",
    "\n",
    "print(f'the accuracy is {c/rowNum}')"
   ]
  }
 ],
 "metadata": {
  "kernelspec": {
   "display_name": "Python 3 (ipykernel)",
   "language": "python",
   "name": "python3"
  },
  "language_info": {
   "codemirror_mode": {
    "name": "ipython",
    "version": 3
   },
   "file_extension": ".py",
   "mimetype": "text/x-python",
   "name": "python",
   "nbconvert_exporter": "python",
   "pygments_lexer": "ipython3",
   "version": "3.12.1"
  }
 },
 "nbformat": 4,
 "nbformat_minor": 5
}
